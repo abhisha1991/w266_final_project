{
  "nbformat": 4,
  "nbformat_minor": 0,
  "metadata": {
    "accelerator": "GPU",
    "colab": {
      "name": "MetricDataPrep.ipynb",
      "provenance": [],
      "collapsed_sections": [],
      "toc_visible": true,
      "machine_shape": "hm"
    },
    "kernelspec": {
      "display_name": "Python 3",
      "name": "python3"
    },
    "language_info": {
      "name": "python"
    }
  },
  "cells": [
    {
      "cell_type": "markdown",
      "metadata": {
        "id": "ePkZgnL40Cpw"
      },
      "source": [
        "# NLP With Deep Learning (W266)\n",
        "\n",
        "Submission by *Carolina Arriaga, Ayman, Abhi Sharma*\n",
        "\n",
        "Winter 2021 | UC Berkeley"
      ]
    },
    {
      "cell_type": "markdown",
      "metadata": {
        "id": "GK0bi4fs0S9i"
      },
      "source": [
        "## Notebook Overview\n",
        "\n",
        "This notebook contains the data prep needed by the team to be able to draw conclusions on the relationship between `coherence, fluency, consistency, relevance` and the metrics that were authored in the `SummaryScorer` notebook.\n",
        "\n",
        "References list:\n",
        "\n",
        "https://arxiv.org/pdf/2007.12626.pdf\n",
        "\n",
        "https://github.com/Yale-LILY/SummEval"
      ]
    },
    {
      "cell_type": "markdown",
      "metadata": {
        "id": "NjMq-lejtfJD"
      },
      "source": [
        "# Data Prep"
      ]
    },
    {
      "cell_type": "code",
      "metadata": {
        "id": "tyyKAoFSrlC5",
        "colab": {
          "base_uri": "https://localhost:8080/"
        },
        "outputId": "4356a9b1-2f04-4b31-e2de-62c6013ff755"
      },
      "source": [
        "%cd /content\n",
        "!pwd"
      ],
      "execution_count": null,
      "outputs": [
        {
          "output_type": "stream",
          "name": "stdout",
          "text": [
            "/content\n",
            "/content\n"
          ]
        }
      ]
    },
    {
      "cell_type": "markdown",
      "metadata": {
        "id": "5O_BM5Pvyp6N"
      },
      "source": [
        "## Utilities"
      ]
    },
    {
      "cell_type": "code",
      "metadata": {
        "id": "HDZAp9O8QXwE"
      },
      "source": [
        "import numpy as np\n",
        "import pandas as pd\n",
        "\n",
        "def get_link_for_model(num):\n",
        "  return 'https://storage.googleapis.com/sfr-summarization-repo-research/M{}.tar.gz'.format(num)\n",
        "\n",
        "def get_link_for_human_annotation():\n",
        "  return 'https://storage.googleapis.com/sfr-summarization-repo-research/model_annotations.aligned.jsonl'\n",
        "  \n",
        "# there are 24 models - 0 to 23 as per the link here\n",
        "# https://github.com/Yale-LILY/SummEval#model-outputs\n",
        "total_models = 24\n",
        "\n",
        "def get_links_for_all_models():\n",
        "  links = ''\n",
        "  for i in range(total_models):\n",
        "    links += get_link_for_model(i) + ' '\n",
        "  return links\n"
      ],
      "execution_count": null,
      "outputs": []
    },
    {
      "cell_type": "code",
      "metadata": {
        "id": "SWEgut0CVcZI",
        "colab": {
          "base_uri": "https://localhost:8080/"
        },
        "outputId": "f8e01943-dd20-4bf7-d88c-2ddf9d94d4bf"
      },
      "source": [
        "!wget {get_link_for_human_annotation()}"
      ],
      "execution_count": null,
      "outputs": [
        {
          "output_type": "stream",
          "name": "stdout",
          "text": [
            "--2021-11-27 21:25:30--  https://storage.googleapis.com/sfr-summarization-repo-research/model_annotations.aligned.jsonl\n",
            "Resolving storage.googleapis.com (storage.googleapis.com)... 142.251.5.128, 64.233.184.128, 64.233.167.128, ...\n",
            "Connecting to storage.googleapis.com (storage.googleapis.com)|142.251.5.128|:443... connected.\n",
            "HTTP request sent, awaiting response... 200 OK\n",
            "Length: 5839062 (5.6M) [application/octet-stream]\n",
            "Saving to: ‘model_annotations.aligned.jsonl’\n",
            "\n",
            "model_annotations.a 100%[===================>]   5.57M  --.-KB/s    in 0.1s    \n",
            "\n",
            "2021-11-27 21:25:31 (43.5 MB/s) - ‘model_annotations.aligned.jsonl’ saved [5839062/5839062]\n",
            "\n"
          ]
        }
      ]
    },
    {
      "cell_type": "code",
      "metadata": {
        "colab": {
          "base_uri": "https://localhost:8080/"
        },
        "id": "98Da9g9sQnK8",
        "outputId": "2f9c7a09-43d4-4c59-c03d-98ccaf089ffc"
      },
      "source": [
        "!wget {get_links_for_all_models()}"
      ],
      "execution_count": null,
      "outputs": [
        {
          "output_type": "stream",
          "name": "stdout",
          "text": [
            "--2021-11-27 21:25:31--  https://storage.googleapis.com/sfr-summarization-repo-research/M0.tar.gz\n",
            "Resolving storage.googleapis.com (storage.googleapis.com)... 142.251.5.128, 64.233.167.128, 74.125.133.128, ...\n",
            "Connecting to storage.googleapis.com (storage.googleapis.com)|142.251.5.128|:443... connected.\n",
            "HTTP request sent, awaiting response... 200 OK\n",
            "Length: 3821775 (3.6M) [application/x-gzip]\n",
            "Saving to: ‘M0.tar.gz’\n",
            "\n",
            "M0.tar.gz           100%[===================>]   3.64M  --.-KB/s    in 0.02s   \n",
            "\n",
            "2021-11-27 21:25:31 (150 MB/s) - ‘M0.tar.gz’ saved [3821775/3821775]\n",
            "\n",
            "--2021-11-27 21:25:31--  https://storage.googleapis.com/sfr-summarization-repo-research/M1.tar.gz\n",
            "Reusing existing connection to storage.googleapis.com:443.\n",
            "HTTP request sent, awaiting response... 200 OK\n",
            "Length: 3703162 (3.5M) [application/x-gzip]\n",
            "Saving to: ‘M1.tar.gz’\n",
            "\n",
            "M1.tar.gz           100%[===================>]   3.53M  --.-KB/s    in 0.04s   \n",
            "\n",
            "2021-11-27 21:25:32 (91.7 MB/s) - ‘M1.tar.gz’ saved [3703162/3703162]\n",
            "\n",
            "--2021-11-27 21:25:32--  https://storage.googleapis.com/sfr-summarization-repo-research/M2.tar.gz\n",
            "Reusing existing connection to storage.googleapis.com:443.\n",
            "HTTP request sent, awaiting response... 200 OK\n",
            "Length: 3548521 (3.4M) [application/x-gzip]\n",
            "Saving to: ‘M2.tar.gz’\n",
            "\n",
            "M2.tar.gz           100%[===================>]   3.38M  --.-KB/s    in 0.01s   \n",
            "\n",
            "2021-11-27 21:25:32 (226 MB/s) - ‘M2.tar.gz’ saved [3548521/3548521]\n",
            "\n",
            "--2021-11-27 21:25:32--  https://storage.googleapis.com/sfr-summarization-repo-research/M3.tar.gz\n",
            "Reusing existing connection to storage.googleapis.com:443.\n",
            "HTTP request sent, awaiting response... 200 OK\n",
            "Length: 3627339 (3.5M) [application/x-gzip]\n",
            "Saving to: ‘M3.tar.gz’\n",
            "\n",
            "M3.tar.gz           100%[===================>]   3.46M  --.-KB/s    in 0.03s   \n",
            "\n",
            "2021-11-27 21:25:33 (103 MB/s) - ‘M3.tar.gz’ saved [3627339/3627339]\n",
            "\n",
            "--2021-11-27 21:25:33--  https://storage.googleapis.com/sfr-summarization-repo-research/M4.tar.gz\n",
            "Reusing existing connection to storage.googleapis.com:443.\n",
            "HTTP request sent, awaiting response... 200 OK\n",
            "Length: 4625330 (4.4M) [application/x-gzip]\n",
            "Saving to: ‘M4.tar.gz’\n",
            "\n",
            "M4.tar.gz           100%[===================>]   4.41M  --.-KB/s    in 0.1s    \n",
            "\n",
            "2021-11-27 21:25:34 (35.7 MB/s) - ‘M4.tar.gz’ saved [4625330/4625330]\n",
            "\n",
            "--2021-11-27 21:25:34--  https://storage.googleapis.com/sfr-summarization-repo-research/M5.tar.gz\n",
            "Reusing existing connection to storage.googleapis.com:443.\n",
            "HTTP request sent, awaiting response... 200 OK\n",
            "Length: 8168891 (7.8M) [application/x-gzip]\n",
            "Saving to: ‘M5.tar.gz’\n",
            "\n",
            "M5.tar.gz           100%[===================>]   7.79M  9.72MB/s    in 0.8s    \n",
            "\n",
            "2021-11-27 21:25:35 (9.72 MB/s) - ‘M5.tar.gz’ saved [8168891/8168891]\n",
            "\n",
            "--2021-11-27 21:25:35--  https://storage.googleapis.com/sfr-summarization-repo-research/M6.tar.gz\n",
            "Reusing existing connection to storage.googleapis.com:443.\n",
            "HTTP request sent, awaiting response... 200 OK\n",
            "Length: 3743392 (3.6M) [application/x-gzip]\n",
            "Saving to: ‘M6.tar.gz’\n",
            "\n",
            "M6.tar.gz           100%[===================>]   3.57M  --.-KB/s    in 0.02s   \n",
            "\n",
            "2021-11-27 21:25:36 (198 MB/s) - ‘M6.tar.gz’ saved [3743392/3743392]\n",
            "\n",
            "--2021-11-27 21:25:36--  https://storage.googleapis.com/sfr-summarization-repo-research/M7.tar.gz\n",
            "Reusing existing connection to storage.googleapis.com:443.\n",
            "HTTP request sent, awaiting response... 200 OK\n",
            "Length: 3708686 (3.5M) [application/x-gzip]\n",
            "Saving to: ‘M7.tar.gz’\n",
            "\n",
            "M7.tar.gz           100%[===================>]   3.54M  --.-KB/s    in 0.02s   \n",
            "\n",
            "2021-11-27 21:25:36 (178 MB/s) - ‘M7.tar.gz’ saved [3708686/3708686]\n",
            "\n",
            "--2021-11-27 21:25:36--  https://storage.googleapis.com/sfr-summarization-repo-research/M8.tar.gz\n",
            "Reusing existing connection to storage.googleapis.com:443.\n",
            "HTTP request sent, awaiting response... 200 OK\n",
            "Length: 9082212 (8.7M) [application/x-gzip]\n",
            "Saving to: ‘M8.tar.gz’\n",
            "\n",
            "M8.tar.gz           100%[===================>]   8.66M  34.3MB/s    in 0.3s    \n",
            "\n",
            "2021-11-27 21:25:37 (34.3 MB/s) - ‘M8.tar.gz’ saved [9082212/9082212]\n",
            "\n",
            "--2021-11-27 21:25:37--  https://storage.googleapis.com/sfr-summarization-repo-research/M9.tar.gz\n",
            "Reusing existing connection to storage.googleapis.com:443.\n",
            "HTTP request sent, awaiting response... 200 OK\n",
            "Length: 6997171 (6.7M) [application/x-gzip]\n",
            "Saving to: ‘M9.tar.gz’\n",
            "\n",
            "M9.tar.gz           100%[===================>]   6.67M  33.9MB/s    in 0.2s    \n",
            "\n",
            "2021-11-27 21:25:39 (33.9 MB/s) - ‘M9.tar.gz’ saved [6997171/6997171]\n",
            "\n",
            "--2021-11-27 21:25:39--  https://storage.googleapis.com/sfr-summarization-repo-research/M10.tar.gz\n",
            "Reusing existing connection to storage.googleapis.com:443.\n",
            "HTTP request sent, awaiting response... 200 OK\n",
            "Length: 6156622 (5.9M) [application/x-gzip]\n",
            "Saving to: ‘M10.tar.gz’\n",
            "\n",
            "M10.tar.gz          100%[===================>]   5.87M  --.-KB/s    in 0.1s    \n",
            "\n",
            "2021-11-27 21:25:39 (44.5 MB/s) - ‘M10.tar.gz’ saved [6156622/6156622]\n",
            "\n",
            "--2021-11-27 21:25:39--  https://storage.googleapis.com/sfr-summarization-repo-research/M11.tar.gz\n",
            "Reusing existing connection to storage.googleapis.com:443.\n",
            "HTTP request sent, awaiting response... 200 OK\n",
            "Length: 10157046 (9.7M) [application/x-gzip]\n",
            "Saving to: ‘M11.tar.gz’\n",
            "\n",
            "M11.tar.gz          100%[===================>]   9.69M  31.3MB/s    in 0.3s    \n",
            "\n",
            "2021-11-27 21:25:40 (31.3 MB/s) - ‘M11.tar.gz’ saved [10157046/10157046]\n",
            "\n",
            "--2021-11-27 21:25:40--  https://storage.googleapis.com/sfr-summarization-repo-research/M12.tar.gz\n",
            "Reusing existing connection to storage.googleapis.com:443.\n",
            "HTTP request sent, awaiting response... 200 OK\n",
            "Length: 3522567 (3.4M) [application/x-gzip]\n",
            "Saving to: ‘M12.tar.gz’\n",
            "\n",
            "M12.tar.gz          100%[===================>]   3.36M  --.-KB/s    in 0.02s   \n",
            "\n",
            "2021-11-27 21:25:41 (185 MB/s) - ‘M12.tar.gz’ saved [3522567/3522567]\n",
            "\n",
            "--2021-11-27 21:25:41--  https://storage.googleapis.com/sfr-summarization-repo-research/M13.tar.gz\n",
            "Reusing existing connection to storage.googleapis.com:443.\n",
            "HTTP request sent, awaiting response... 200 OK\n",
            "Length: 3351291 (3.2M) [application/x-gzip]\n",
            "Saving to: ‘M13.tar.gz’\n",
            "\n",
            "M13.tar.gz          100%[===================>]   3.20M  --.-KB/s    in 0.01s   \n",
            "\n",
            "2021-11-27 21:25:41 (216 MB/s) - ‘M13.tar.gz’ saved [3351291/3351291]\n",
            "\n",
            "--2021-11-27 21:25:41--  https://storage.googleapis.com/sfr-summarization-repo-research/M14.tar.gz\n",
            "Reusing existing connection to storage.googleapis.com:443.\n",
            "HTTP request sent, awaiting response... 200 OK\n",
            "Length: 3207941 (3.1M) [application/x-gzip]\n",
            "Saving to: ‘M14.tar.gz’\n",
            "\n",
            "M14.tar.gz          100%[===================>]   3.06M  --.-KB/s    in 0.01s   \n",
            "\n",
            "2021-11-27 21:25:42 (212 MB/s) - ‘M14.tar.gz’ saved [3207941/3207941]\n",
            "\n",
            "--2021-11-27 21:25:42--  https://storage.googleapis.com/sfr-summarization-repo-research/M15.tar.gz\n",
            "Reusing existing connection to storage.googleapis.com:443.\n",
            "HTTP request sent, awaiting response... 200 OK\n",
            "Length: 6646867 (6.3M) [application/x-gzip]\n",
            "Saving to: ‘M15.tar.gz’\n",
            "\n",
            "M15.tar.gz          100%[===================>]   6.34M  27.3MB/s    in 0.2s    \n",
            "\n",
            "2021-11-27 21:25:43 (27.3 MB/s) - ‘M15.tar.gz’ saved [6646867/6646867]\n",
            "\n",
            "--2021-11-27 21:25:43--  https://storage.googleapis.com/sfr-summarization-repo-research/M16.tar.gz\n",
            "Reusing existing connection to storage.googleapis.com:443.\n",
            "HTTP request sent, awaiting response... 200 OK\n",
            "Length: 10461862 (10.0M) [application/x-gzip]\n",
            "Saving to: ‘M16.tar.gz’\n",
            "\n",
            "M16.tar.gz          100%[===================>]   9.98M  27.8MB/s    in 0.4s    \n",
            "\n",
            "2021-11-27 21:25:43 (27.8 MB/s) - ‘M16.tar.gz’ saved [10461862/10461862]\n",
            "\n",
            "--2021-11-27 21:25:43--  https://storage.googleapis.com/sfr-summarization-repo-research/M17.tar.gz\n",
            "Reusing existing connection to storage.googleapis.com:443.\n",
            "HTTP request sent, awaiting response... 200 OK\n",
            "Length: 15950907 (15M) [application/x-gzip]\n",
            "Saving to: ‘M17.tar.gz’\n",
            "\n",
            "M17.tar.gz          100%[===================>]  15.21M  39.1MB/s    in 0.4s    \n",
            "\n",
            "2021-11-27 21:25:44 (39.1 MB/s) - ‘M17.tar.gz’ saved [15950907/15950907]\n",
            "\n",
            "--2021-11-27 21:25:44--  https://storage.googleapis.com/sfr-summarization-repo-research/M18.tar.gz\n",
            "Reusing existing connection to storage.googleapis.com:443.\n",
            "HTTP request sent, awaiting response... 200 OK\n",
            "Length: 7054473 (6.7M) [application/x-gzip]\n",
            "Saving to: ‘M18.tar.gz’\n",
            "\n",
            "M18.tar.gz          100%[===================>]   6.73M  38.7MB/s    in 0.2s    \n",
            "\n",
            "2021-11-27 21:25:45 (38.7 MB/s) - ‘M18.tar.gz’ saved [7054473/7054473]\n",
            "\n",
            "--2021-11-27 21:25:45--  https://storage.googleapis.com/sfr-summarization-repo-research/M19.tar.gz\n",
            "Reusing existing connection to storage.googleapis.com:443.\n",
            "HTTP request sent, awaiting response... 200 OK\n",
            "Length: 10258220 (9.8M) [application/x-gzip]\n",
            "Saving to: ‘M19.tar.gz’\n",
            "\n",
            "M19.tar.gz          100%[===================>]   9.78M  13.9MB/s    in 0.7s    \n",
            "\n",
            "2021-11-27 21:25:46 (13.9 MB/s) - ‘M19.tar.gz’ saved [10258220/10258220]\n",
            "\n",
            "--2021-11-27 21:25:46--  https://storage.googleapis.com/sfr-summarization-repo-research/M20.tar.gz\n",
            "Reusing existing connection to storage.googleapis.com:443.\n",
            "HTTP request sent, awaiting response... 200 OK\n",
            "Length: 10065862 (9.6M) [application/x-gzip]\n",
            "Saving to: ‘M20.tar.gz’\n",
            "\n",
            "M20.tar.gz          100%[===================>]   9.60M  38.2MB/s    in 0.3s    \n",
            "\n",
            "2021-11-27 21:25:47 (38.2 MB/s) - ‘M20.tar.gz’ saved [10065862/10065862]\n",
            "\n",
            "--2021-11-27 21:25:47--  https://storage.googleapis.com/sfr-summarization-repo-research/M21.tar.gz\n",
            "Reusing existing connection to storage.googleapis.com:443.\n",
            "HTTP request sent, awaiting response... 200 OK\n",
            "Length: 3614121 (3.4M) [application/x-gzip]\n",
            "Saving to: ‘M21.tar.gz’\n",
            "\n",
            "M21.tar.gz          100%[===================>]   3.45M  --.-KB/s    in 0.03s   \n",
            "\n",
            "2021-11-27 21:25:47 (134 MB/s) - ‘M21.tar.gz’ saved [3614121/3614121]\n",
            "\n",
            "--2021-11-27 21:25:47--  https://storage.googleapis.com/sfr-summarization-repo-research/M22.tar.gz\n",
            "Reusing existing connection to storage.googleapis.com:443.\n",
            "HTTP request sent, awaiting response... 200 OK\n",
            "Length: 3320398 (3.2M) [application/x-gzip]\n",
            "Saving to: ‘M22.tar.gz’\n",
            "\n",
            "M22.tar.gz          100%[===================>]   3.17M  --.-KB/s    in 0.02s   \n",
            "\n",
            "2021-11-27 21:25:48 (165 MB/s) - ‘M22.tar.gz’ saved [3320398/3320398]\n",
            "\n",
            "--2021-11-27 21:25:48--  https://storage.googleapis.com/sfr-summarization-repo-research/M23.tar.gz\n",
            "Reusing existing connection to storage.googleapis.com:443.\n",
            "HTTP request sent, awaiting response... 200 OK\n",
            "Length: 10078530 (9.6M) [application/x-gzip]\n",
            "Saving to: ‘M23.tar.gz’\n",
            "\n",
            "M23.tar.gz          100%[===================>]   9.61M  41.0MB/s    in 0.2s    \n",
            "\n",
            "2021-11-27 21:25:48 (41.0 MB/s) - ‘M23.tar.gz’ saved [10078530/10078530]\n",
            "\n",
            "FINISHED --2021-11-27 21:25:48--\n",
            "Total wall clock time: 18s\n",
            "Downloaded: 24 files, 148M in 4.4s (33.6 MB/s)\n"
          ]
        }
      ]
    },
    {
      "cell_type": "code",
      "metadata": {
        "id": "Nl3pEWRGtS9F"
      },
      "source": [
        "!for f in *.tar.gz; do tar -xf \"$f\"; done"
      ],
      "execution_count": null,
      "outputs": []
    },
    {
      "cell_type": "code",
      "metadata": {
        "id": "wv_KBN0dj0Fg"
      },
      "source": [
        "from os import listdir\n",
        "from os.path import isfile, join\n",
        "\n",
        "def get_jsonl_files_for_model(model_num):\n",
        "  assert type(model_num) == int\n",
        "  path = \"M{}/aligned\".format(model_num)\n",
        "  files = [f for f in listdir(path) if isfile(join(path, f))]\n",
        "  return [path + '/' + f for f in files if f.endswith('jsonl')]"
      ],
      "execution_count": null,
      "outputs": []
    },
    {
      "cell_type": "code",
      "metadata": {
        "colab": {
          "base_uri": "https://localhost:8080/"
        },
        "id": "SpmkfO1Slso7",
        "outputId": "a2ebe729-eced-4b74-f1e7-63e931dcd22b"
      },
      "source": [
        "get_jsonl_files_for_model(23)"
      ],
      "execution_count": null,
      "outputs": [
        {
          "output_type": "execute_result",
          "data": {
            "text/plain": [
              "['M23/aligned/outputs_dynamicmix_cnn_dailymail.aligned.jsonl',\n",
              " 'M23/aligned/outputs_c4_cnn_dailymail.aligned.jsonl',\n",
              " 'M23/aligned/outputs_hugenews_cnn_dailymail.aligned.jsonl']"
            ]
          },
          "metadata": {},
          "execution_count": 7
        }
      ]
    },
    {
      "cell_type": "code",
      "metadata": {
        "id": "mSEXOj8VUBw7"
      },
      "source": [
        "import json\n",
        "\n",
        "def get_model_result_list(model_num, all_model_variants=True):\n",
        "  file_list = get_jsonl_files_for_model(model_num)\n",
        "  assert len(file_list) > 0\n",
        "  if not all_model_variants:\n",
        "    file_list = [file_list[0]]\n",
        "  \n",
        "  corrupted_val = \"cnndm/dailymail/stories/9f270039c861e75ee2f01e4e2898a9ea04a96b26.story\"\n",
        "  data = []  \n",
        "  for f in file_list:\n",
        "    with open(f, 'r') as jsonl_file:\n",
        "        json_list = list(jsonl_file)\n",
        "\n",
        "    for json_str in json_list:\n",
        "        model_result = json.loads(json_str)\n",
        "        model_result['model_id'] = 'M' + str(model_num)\n",
        "        model_result['model_variant'] = f\n",
        "        # there is a single corrupted record in model #2, so we remove that\n",
        "        if model_num == 2 and model_result['filepath'] == corrupted_val:\n",
        "          continue\n",
        "        data.append(model_result)\n",
        "  \n",
        "  return data"
      ],
      "execution_count": null,
      "outputs": []
    },
    {
      "cell_type": "code",
      "metadata": {
        "id": "2HwsB3E5XcTO"
      },
      "source": [
        "def get_all_model_data(all_model_variants=True):\n",
        "  data = []\n",
        "  for i in range(total_models):\n",
        "    data_for_model = get_model_result_list(i, all_model_variants)\n",
        "    # verify keys in result for every model\n",
        "    first = data_for_model[0]\n",
        "    assert 'reference' in first.keys()\n",
        "    assert 'decoded' in first.keys()\n",
        "    assert 'id' in first.keys()\n",
        "    assert 'filepath' in first.keys()\n",
        "    assert 'model_id' in first.keys()\n",
        "    assert 'model_variant' in first.keys()\n",
        "    data.extend(data_for_model)\n",
        "  return data"
      ],
      "execution_count": null,
      "outputs": []
    },
    {
      "cell_type": "markdown",
      "metadata": {
        "id": "XB59o-W3yfni"
      },
      "source": [
        "## Model Summaries"
      ]
    },
    {
      "cell_type": "code",
      "metadata": {
        "colab": {
          "base_uri": "https://localhost:8080/",
          "height": 591
        },
        "id": "e9JU3KQNYozj",
        "outputId": "54c06acf-c41c-4c83-b2b9-98e9d117d197"
      },
      "source": [
        "import pandas as pd\n",
        "\n",
        "data = get_all_model_data()\n",
        "model_summ = pd.DataFrame(data)\n",
        "model_summ.head()"
      ],
      "execution_count": null,
      "outputs": [
        {
          "output_type": "execute_result",
          "data": {
            "text/html": [
              "<div>\n",
              "<style scoped>\n",
              "    .dataframe tbody tr th:only-of-type {\n",
              "        vertical-align: middle;\n",
              "    }\n",
              "\n",
              "    .dataframe tbody tr th {\n",
              "        vertical-align: top;\n",
              "    }\n",
              "\n",
              "    .dataframe thead th {\n",
              "        text-align: right;\n",
              "    }\n",
              "</style>\n",
              "<table border=\"1\" class=\"dataframe\">\n",
              "  <thead>\n",
              "    <tr style=\"text-align: right;\">\n",
              "      <th></th>\n",
              "      <th>reference</th>\n",
              "      <th>decoded</th>\n",
              "      <th>id</th>\n",
              "      <th>filepath</th>\n",
              "      <th>model_id</th>\n",
              "      <th>model_variant</th>\n",
              "    </tr>\n",
              "  </thead>\n",
              "  <tbody>\n",
              "    <tr>\n",
              "      <th>0</th>\n",
              "      <td>marseille prosecutor says `` so far no videos ...</td>\n",
              "      <td>marseille , france -lrb- cnn -rrb- the french ...</td>\n",
              "      <td>cnn-test-469c6ac05092ca5997728c9dfc19f9ab6b936e40</td>\n",
              "      <td>cnndm/cnn/stories/469c6ac05092ca5997728c9dfc19...</td>\n",
              "      <td>M0</td>\n",
              "      <td>M0/aligned/outputs.aligned.jsonl</td>\n",
              "    </tr>\n",
              "    <tr>\n",
              "      <th>1</th>\n",
              "      <td>membership gives the icc jurisdiction over all...</td>\n",
              "      <td>-lrb- cnn -rrb- the palestinian authority offi...</td>\n",
              "      <td>cnn-test-f001ec5c4704938247d27a44948eebb37ae98d01</td>\n",
              "      <td>cnndm/cnn/stories/f001ec5c4704938247d27a44948e...</td>\n",
              "      <td>M0</td>\n",
              "      <td>M0/aligned/outputs.aligned.jsonl</td>\n",
              "    </tr>\n",
              "    <tr>\n",
              "      <th>2</th>\n",
              "      <td>amnesty 's annual death penalty report catalog...</td>\n",
              "      <td>-lrb- cnn -rrb- governments around the world a...</td>\n",
              "      <td>cnn-test-e2706dce6cf26bc61b082438188fdb6e130d9e40</td>\n",
              "      <td>cnndm/cnn/stories/e2706dce6cf26bc61b082438188f...</td>\n",
              "      <td>M0</td>\n",
              "      <td>M0/aligned/outputs.aligned.jsonl</td>\n",
              "    </tr>\n",
              "    <tr>\n",
              "      <th>3</th>\n",
              "      <td>amnesty international releases its annual revi...</td>\n",
              "      <td>-lrb- cnn -rrb- on may 28 , 2014 , some 7,000 ...</td>\n",
              "      <td>cnn-test-c222979bd1cfbc7d3ff821e9c738e3dbd29b14f4</td>\n",
              "      <td>cnndm/cnn/stories/c222979bd1cfbc7d3ff821e9c738...</td>\n",
              "      <td>M0</td>\n",
              "      <td>M0/aligned/outputs.aligned.jsonl</td>\n",
              "    </tr>\n",
              "    <tr>\n",
              "      <th>4</th>\n",
              "      <td>museum : anne frank died earlier than previous...</td>\n",
              "      <td>-lrb- cnn -rrb- seventy years ago , anne frank...</td>\n",
              "      <td>cnn-test-203886369feea77bbc35715e6d7e518b751f57de</td>\n",
              "      <td>cnndm/cnn/stories/203886369feea77bbc35715e6d7e...</td>\n",
              "      <td>M0</td>\n",
              "      <td>M0/aligned/outputs.aligned.jsonl</td>\n",
              "    </tr>\n",
              "  </tbody>\n",
              "</table>\n",
              "</div>"
            ],
            "text/plain": [
              "                                           reference  ...                     model_variant\n",
              "0  marseille prosecutor says `` so far no videos ...  ...  M0/aligned/outputs.aligned.jsonl\n",
              "1  membership gives the icc jurisdiction over all...  ...  M0/aligned/outputs.aligned.jsonl\n",
              "2  amnesty 's annual death penalty report catalog...  ...  M0/aligned/outputs.aligned.jsonl\n",
              "3  amnesty international releases its annual revi...  ...  M0/aligned/outputs.aligned.jsonl\n",
              "4  museum : anne frank died earlier than previous...  ...  M0/aligned/outputs.aligned.jsonl\n",
              "\n",
              "[5 rows x 6 columns]"
            ]
          },
          "metadata": {},
          "execution_count": 10
        }
      ]
    },
    {
      "cell_type": "code",
      "metadata": {
        "colab": {
          "base_uri": "https://localhost:8080/"
        },
        "id": "UH6lFvQpM-Xx",
        "outputId": "d8a49567-c7a8-4cb6-bab1-feac73c47c06"
      },
      "source": [
        "model_summ.shape"
      ],
      "execution_count": null,
      "outputs": [
        {
          "output_type": "execute_result",
          "data": {
            "text/plain": [
              "(517027, 6)"
            ]
          },
          "metadata": {},
          "execution_count": 11
        }
      ]
    },
    {
      "cell_type": "code",
      "metadata": {
        "colab": {
          "base_uri": "https://localhost:8080/"
        },
        "id": "A_rRwpbHwnCE",
        "outputId": "a2de8e04-1ab0-4a1e-eaaf-d8f7dbd7ae4a"
      },
      "source": [
        "# check for null and empty vals in df\n",
        "np.where(pd.isnull(model_summ))"
      ],
      "execution_count": null,
      "outputs": [
        {
          "output_type": "execute_result",
          "data": {
            "text/plain": [
              "(array([], dtype=int64), array([], dtype=int64))"
            ]
          },
          "metadata": {},
          "execution_count": 12
        }
      ]
    },
    {
      "cell_type": "code",
      "metadata": {
        "colab": {
          "base_uri": "https://localhost:8080/"
        },
        "id": "zn8s5remw-rP",
        "outputId": "02b42228-abcf-4215-ad77-30420316ecfc"
      },
      "source": [
        "# check for null and empty vals in df\n",
        "np.where(model_summ.applymap(lambda x: x == ''))"
      ],
      "execution_count": null,
      "outputs": [
        {
          "output_type": "execute_result",
          "data": {
            "text/plain": [
              "(array([ 23072,  23267,  30707,  32247,  32247,  32522,  33110,  61748,\n",
              "         73238, 425385, 425734, 428213, 428955, 435262, 436467, 441326,\n",
              "        448859, 449390, 449574, 449826, 450278, 450618, 451061, 451369,\n",
              "        451583, 452632, 452644, 452972, 453027, 453445, 453815, 454051,\n",
              "        454795, 455649, 456532, 456925, 457381, 457743, 458701, 458832,\n",
              "        458885, 467637, 468970]),\n",
              " array([1, 1, 1, 0, 1, 1, 1, 1, 1, 1, 1, 1, 1, 1, 1, 1, 1, 1, 1, 1, 1, 1,\n",
              "        1, 1, 1, 1, 1, 1, 1, 1, 1, 1, 1, 1, 1, 1, 1, 1, 1, 1, 1, 1, 1]))"
            ]
          },
          "metadata": {},
          "execution_count": 13
        }
      ]
    },
    {
      "cell_type": "code",
      "metadata": {
        "colab": {
          "base_uri": "https://localhost:8080/"
        },
        "id": "6BkcTLUrxS-6",
        "outputId": "aebb7317-e25a-42e0-9f93-9c584bb3fa04"
      },
      "source": [
        "# there are some rows with empty summary outputs from the model\n",
        "# we will keep these as is as this is what the model's natural output is\n",
        "model_summ.iloc[23072]"
      ],
      "execution_count": null,
      "outputs": [
        {
          "output_type": "execute_result",
          "data": {
            "text/plain": [
              "reference        richard dysart best known for leland mckenzie ...\n",
              "decoded                                                           \n",
              "id               cnn-test-c34d84d38ccfd021ba0b3712dc23feadd455af5b\n",
              "filepath         cnndm/cnn/stories/c34d84d38ccfd021ba0b3712dc23...\n",
              "model_id                                                        M2\n",
              "model_variant                     M2/aligned/outputs.aligned.jsonl\n",
              "Name: 23072, dtype: object"
            ]
          },
          "metadata": {},
          "execution_count": 14
        }
      ]
    },
    {
      "cell_type": "markdown",
      "metadata": {
        "id": "LkRspZ6ez6Fr"
      },
      "source": [
        "## Annotator Data"
      ]
    },
    {
      "cell_type": "code",
      "metadata": {
        "id": "EcPsnBxv0XaN"
      },
      "source": [
        "def get_annotation_data(with_mturk=False):\n",
        "  with open('/content/model_annotations.aligned.jsonl', 'r') as json_file:\n",
        "    json_list = list(json_file)\n",
        "\n",
        "  data = []\n",
        "  for json_str in json_list:\n",
        "      annotation = json.loads(json_str)\n",
        "      result = {}\n",
        "      result['id'] = annotation['id']\n",
        "      result['model_id'] = annotation['model_id']\n",
        "      result['decoded'] = annotation['decoded']\n",
        "      result['filepath'] = annotation['filepath']\n",
        "\n",
        "      # there are 3 expert and 5 mturk outputs\n",
        "      expert = 'expert_annotations'\n",
        "      turk = 'turker_annotations'\n",
        "      assert len(annotation[expert]) == 3\n",
        "      assert len(annotation[turk]) == 5\n",
        "\n",
        "      dims =  [\"coherence\", \"consistency\", \"fluency\", \"relevance\"]\n",
        "      \n",
        "      ### add expert individual and avg scores ###\n",
        "      # go through each dim\n",
        "      for d in dims:\n",
        "        summ = 0\n",
        "        # go through each expert\n",
        "        for e in range(len(annotation[expert])):\n",
        "          assert d in annotation[expert][e].keys()\n",
        "\n",
        "          result['expert_{}_{}'.format(e, d)] = annotation[expert][e][d]\n",
        "          summ += annotation[expert][e][d]\n",
        "        \n",
        "        result['all_expert_avg_{}'.format(d)] = 1.0 * summ/len(annotation[expert])\n",
        "\n",
        "      if with_mturk:\n",
        "        ### add turk individual and avg scores ###\n",
        "        # go through each dim\n",
        "        for d in dims:\n",
        "          summ = 0\n",
        "          # go through each turk\n",
        "          for t in range(len(annotation[turk])):\n",
        "            assert d in annotation[turk][t].keys()\n",
        "\n",
        "            result['turk_{}_{}'.format(t, d)] = annotation[turk][t][d]\n",
        "            summ += annotation[turk][t][d]\n",
        "          \n",
        "          result['all_turk_avg_{}'.format(d)] = 1.0 * summ/len(annotation[turk])\n",
        "\n",
        "      data.append(result)\n",
        "  return data"
      ],
      "execution_count": null,
      "outputs": []
    },
    {
      "cell_type": "code",
      "metadata": {
        "colab": {
          "base_uri": "https://localhost:8080/",
          "height": 833
        },
        "id": "sGp5uv1C2Fan",
        "outputId": "ed218109-e0d9-42c4-aadd-1491187a8c1c"
      },
      "source": [
        "import pandas as pd\n",
        "\n",
        "data = get_annotation_data(with_mturk=True)\n",
        "annotations = pd.DataFrame(data)\n",
        "annotations.head()"
      ],
      "execution_count": null,
      "outputs": [
        {
          "output_type": "execute_result",
          "data": {
            "text/html": [
              "<div>\n",
              "<style scoped>\n",
              "    .dataframe tbody tr th:only-of-type {\n",
              "        vertical-align: middle;\n",
              "    }\n",
              "\n",
              "    .dataframe tbody tr th {\n",
              "        vertical-align: top;\n",
              "    }\n",
              "\n",
              "    .dataframe thead th {\n",
              "        text-align: right;\n",
              "    }\n",
              "</style>\n",
              "<table border=\"1\" class=\"dataframe\">\n",
              "  <thead>\n",
              "    <tr style=\"text-align: right;\">\n",
              "      <th></th>\n",
              "      <th>id</th>\n",
              "      <th>model_id</th>\n",
              "      <th>decoded</th>\n",
              "      <th>filepath</th>\n",
              "      <th>expert_0_coherence</th>\n",
              "      <th>expert_1_coherence</th>\n",
              "      <th>expert_2_coherence</th>\n",
              "      <th>all_expert_avg_coherence</th>\n",
              "      <th>expert_0_consistency</th>\n",
              "      <th>expert_1_consistency</th>\n",
              "      <th>expert_2_consistency</th>\n",
              "      <th>all_expert_avg_consistency</th>\n",
              "      <th>expert_0_fluency</th>\n",
              "      <th>expert_1_fluency</th>\n",
              "      <th>expert_2_fluency</th>\n",
              "      <th>all_expert_avg_fluency</th>\n",
              "      <th>expert_0_relevance</th>\n",
              "      <th>expert_1_relevance</th>\n",
              "      <th>expert_2_relevance</th>\n",
              "      <th>all_expert_avg_relevance</th>\n",
              "      <th>turk_0_coherence</th>\n",
              "      <th>turk_1_coherence</th>\n",
              "      <th>turk_2_coherence</th>\n",
              "      <th>turk_3_coherence</th>\n",
              "      <th>turk_4_coherence</th>\n",
              "      <th>all_turk_avg_coherence</th>\n",
              "      <th>turk_0_consistency</th>\n",
              "      <th>turk_1_consistency</th>\n",
              "      <th>turk_2_consistency</th>\n",
              "      <th>turk_3_consistency</th>\n",
              "      <th>turk_4_consistency</th>\n",
              "      <th>all_turk_avg_consistency</th>\n",
              "      <th>turk_0_fluency</th>\n",
              "      <th>turk_1_fluency</th>\n",
              "      <th>turk_2_fluency</th>\n",
              "      <th>turk_3_fluency</th>\n",
              "      <th>turk_4_fluency</th>\n",
              "      <th>all_turk_avg_fluency</th>\n",
              "      <th>turk_0_relevance</th>\n",
              "      <th>turk_1_relevance</th>\n",
              "      <th>turk_2_relevance</th>\n",
              "      <th>turk_3_relevance</th>\n",
              "      <th>turk_4_relevance</th>\n",
              "      <th>all_turk_avg_relevance</th>\n",
              "    </tr>\n",
              "  </thead>\n",
              "  <tbody>\n",
              "    <tr>\n",
              "      <th>0</th>\n",
              "      <td>dm-test-8764fb95bfad8ee849274873a92fb8d6b400eee2</td>\n",
              "      <td>M11</td>\n",
              "      <td>paul merson was brought on with only seven min...</td>\n",
              "      <td>cnndm/dailymail/stories/8764fb95bfad8ee8492748...</td>\n",
              "      <td>2</td>\n",
              "      <td>1</td>\n",
              "      <td>1</td>\n",
              "      <td>1.333333</td>\n",
              "      <td>1</td>\n",
              "      <td>1</td>\n",
              "      <td>1</td>\n",
              "      <td>1.0</td>\n",
              "      <td>4</td>\n",
              "      <td>2</td>\n",
              "      <td>3</td>\n",
              "      <td>3.000000</td>\n",
              "      <td>2</td>\n",
              "      <td>1</td>\n",
              "      <td>2</td>\n",
              "      <td>1.666667</td>\n",
              "      <td>3</td>\n",
              "      <td>3</td>\n",
              "      <td>3</td>\n",
              "      <td>3</td>\n",
              "      <td>3</td>\n",
              "      <td>3.0</td>\n",
              "      <td>3</td>\n",
              "      <td>3</td>\n",
              "      <td>3</td>\n",
              "      <td>3</td>\n",
              "      <td>3</td>\n",
              "      <td>3.0</td>\n",
              "      <td>4</td>\n",
              "      <td>4</td>\n",
              "      <td>4</td>\n",
              "      <td>4</td>\n",
              "      <td>4</td>\n",
              "      <td>4.0</td>\n",
              "      <td>3</td>\n",
              "      <td>3</td>\n",
              "      <td>3</td>\n",
              "      <td>3</td>\n",
              "      <td>3</td>\n",
              "      <td>3.0</td>\n",
              "    </tr>\n",
              "    <tr>\n",
              "      <th>1</th>\n",
              "      <td>dm-test-8764fb95bfad8ee849274873a92fb8d6b400eee2</td>\n",
              "      <td>M13</td>\n",
              "      <td>paul merson has restarted his row with andros ...</td>\n",
              "      <td>cnndm/dailymail/stories/8764fb95bfad8ee8492748...</td>\n",
              "      <td>3</td>\n",
              "      <td>2</td>\n",
              "      <td>2</td>\n",
              "      <td>2.333333</td>\n",
              "      <td>5</td>\n",
              "      <td>5</td>\n",
              "      <td>5</td>\n",
              "      <td>5.0</td>\n",
              "      <td>5</td>\n",
              "      <td>5</td>\n",
              "      <td>5</td>\n",
              "      <td>5.000000</td>\n",
              "      <td>2</td>\n",
              "      <td>3</td>\n",
              "      <td>3</td>\n",
              "      <td>2.666667</td>\n",
              "      <td>2</td>\n",
              "      <td>2</td>\n",
              "      <td>2</td>\n",
              "      <td>2</td>\n",
              "      <td>2</td>\n",
              "      <td>2.0</td>\n",
              "      <td>3</td>\n",
              "      <td>3</td>\n",
              "      <td>3</td>\n",
              "      <td>3</td>\n",
              "      <td>3</td>\n",
              "      <td>3.0</td>\n",
              "      <td>2</td>\n",
              "      <td>2</td>\n",
              "      <td>2</td>\n",
              "      <td>2</td>\n",
              "      <td>2</td>\n",
              "      <td>2.0</td>\n",
              "      <td>3</td>\n",
              "      <td>3</td>\n",
              "      <td>3</td>\n",
              "      <td>3</td>\n",
              "      <td>3</td>\n",
              "      <td>3.0</td>\n",
              "    </tr>\n",
              "    <tr>\n",
              "      <th>2</th>\n",
              "      <td>dm-test-8764fb95bfad8ee849274873a92fb8d6b400eee2</td>\n",
              "      <td>M1</td>\n",
              "      <td>paul merson has restarted his row with andros ...</td>\n",
              "      <td>cnndm/dailymail/stories/8764fb95bfad8ee8492748...</td>\n",
              "      <td>2</td>\n",
              "      <td>2</td>\n",
              "      <td>3</td>\n",
              "      <td>2.333333</td>\n",
              "      <td>5</td>\n",
              "      <td>5</td>\n",
              "      <td>5</td>\n",
              "      <td>5.0</td>\n",
              "      <td>5</td>\n",
              "      <td>5</td>\n",
              "      <td>5</td>\n",
              "      <td>5.000000</td>\n",
              "      <td>2</td>\n",
              "      <td>4</td>\n",
              "      <td>2</td>\n",
              "      <td>2.666667</td>\n",
              "      <td>4</td>\n",
              "      <td>5</td>\n",
              "      <td>4</td>\n",
              "      <td>4</td>\n",
              "      <td>2</td>\n",
              "      <td>3.8</td>\n",
              "      <td>5</td>\n",
              "      <td>4</td>\n",
              "      <td>5</td>\n",
              "      <td>5</td>\n",
              "      <td>2</td>\n",
              "      <td>4.2</td>\n",
              "      <td>4</td>\n",
              "      <td>4</td>\n",
              "      <td>4</td>\n",
              "      <td>4</td>\n",
              "      <td>3</td>\n",
              "      <td>3.8</td>\n",
              "      <td>5</td>\n",
              "      <td>4</td>\n",
              "      <td>5</td>\n",
              "      <td>5</td>\n",
              "      <td>4</td>\n",
              "      <td>4.6</td>\n",
              "    </tr>\n",
              "    <tr>\n",
              "      <th>3</th>\n",
              "      <td>dm-test-8764fb95bfad8ee849274873a92fb8d6b400eee2</td>\n",
              "      <td>M14</td>\n",
              "      <td>paul merson has restarted his row with andros ...</td>\n",
              "      <td>cnndm/dailymail/stories/8764fb95bfad8ee8492748...</td>\n",
              "      <td>2</td>\n",
              "      <td>1</td>\n",
              "      <td>2</td>\n",
              "      <td>1.666667</td>\n",
              "      <td>5</td>\n",
              "      <td>5</td>\n",
              "      <td>5</td>\n",
              "      <td>5.0</td>\n",
              "      <td>5</td>\n",
              "      <td>5</td>\n",
              "      <td>5</td>\n",
              "      <td>5.000000</td>\n",
              "      <td>3</td>\n",
              "      <td>2</td>\n",
              "      <td>3</td>\n",
              "      <td>2.666667</td>\n",
              "      <td>5</td>\n",
              "      <td>5</td>\n",
              "      <td>5</td>\n",
              "      <td>5</td>\n",
              "      <td>5</td>\n",
              "      <td>5.0</td>\n",
              "      <td>5</td>\n",
              "      <td>5</td>\n",
              "      <td>5</td>\n",
              "      <td>5</td>\n",
              "      <td>5</td>\n",
              "      <td>5.0</td>\n",
              "      <td>5</td>\n",
              "      <td>5</td>\n",
              "      <td>5</td>\n",
              "      <td>5</td>\n",
              "      <td>5</td>\n",
              "      <td>5.0</td>\n",
              "      <td>4</td>\n",
              "      <td>4</td>\n",
              "      <td>4</td>\n",
              "      <td>4</td>\n",
              "      <td>4</td>\n",
              "      <td>4.0</td>\n",
              "    </tr>\n",
              "    <tr>\n",
              "      <th>4</th>\n",
              "      <td>dm-test-8764fb95bfad8ee849274873a92fb8d6b400eee2</td>\n",
              "      <td>M15</td>\n",
              "      <td>paul merson has restarted his row with andros ...</td>\n",
              "      <td>cnndm/dailymail/stories/8764fb95bfad8ee8492748...</td>\n",
              "      <td>4</td>\n",
              "      <td>3</td>\n",
              "      <td>3</td>\n",
              "      <td>3.333333</td>\n",
              "      <td>5</td>\n",
              "      <td>5</td>\n",
              "      <td>5</td>\n",
              "      <td>5.0</td>\n",
              "      <td>3</td>\n",
              "      <td>3</td>\n",
              "      <td>4</td>\n",
              "      <td>3.333333</td>\n",
              "      <td>4</td>\n",
              "      <td>4</td>\n",
              "      <td>4</td>\n",
              "      <td>4.000000</td>\n",
              "      <td>2</td>\n",
              "      <td>2</td>\n",
              "      <td>2</td>\n",
              "      <td>2</td>\n",
              "      <td>2</td>\n",
              "      <td>2.0</td>\n",
              "      <td>4</td>\n",
              "      <td>4</td>\n",
              "      <td>4</td>\n",
              "      <td>4</td>\n",
              "      <td>4</td>\n",
              "      <td>4.0</td>\n",
              "      <td>2</td>\n",
              "      <td>2</td>\n",
              "      <td>2</td>\n",
              "      <td>2</td>\n",
              "      <td>2</td>\n",
              "      <td>2.0</td>\n",
              "      <td>4</td>\n",
              "      <td>4</td>\n",
              "      <td>4</td>\n",
              "      <td>4</td>\n",
              "      <td>4</td>\n",
              "      <td>4.0</td>\n",
              "    </tr>\n",
              "  </tbody>\n",
              "</table>\n",
              "</div>"
            ],
            "text/plain": [
              "                                                 id  ... all_turk_avg_relevance\n",
              "0  dm-test-8764fb95bfad8ee849274873a92fb8d6b400eee2  ...                    3.0\n",
              "1  dm-test-8764fb95bfad8ee849274873a92fb8d6b400eee2  ...                    3.0\n",
              "2  dm-test-8764fb95bfad8ee849274873a92fb8d6b400eee2  ...                    4.6\n",
              "3  dm-test-8764fb95bfad8ee849274873a92fb8d6b400eee2  ...                    4.0\n",
              "4  dm-test-8764fb95bfad8ee849274873a92fb8d6b400eee2  ...                    4.0\n",
              "\n",
              "[5 rows x 44 columns]"
            ]
          },
          "metadata": {},
          "execution_count": 16
        }
      ]
    },
    {
      "cell_type": "code",
      "metadata": {
        "colab": {
          "base_uri": "https://localhost:8080/"
        },
        "id": "8hQLs-8K-0pe",
        "outputId": "6ecaa338-6b59-495d-dddb-5ef2becf1517"
      },
      "source": [
        "annotations.shape"
      ],
      "execution_count": null,
      "outputs": [
        {
          "output_type": "execute_result",
          "data": {
            "text/plain": [
              "(1600, 44)"
            ]
          },
          "metadata": {},
          "execution_count": 17
        }
      ]
    },
    {
      "cell_type": "code",
      "metadata": {
        "colab": {
          "base_uri": "https://localhost:8080/"
        },
        "id": "ql0dXQDH_Gl4",
        "outputId": "27136b28-2bda-44d2-8d0f-688376c17efc"
      },
      "source": [
        "# check for null and empty vals in df\n",
        "np.where(pd.isnull(annotations))"
      ],
      "execution_count": null,
      "outputs": [
        {
          "output_type": "execute_result",
          "data": {
            "text/plain": [
              "(array([], dtype=int64), array([], dtype=int64))"
            ]
          },
          "metadata": {},
          "execution_count": 18
        }
      ]
    },
    {
      "cell_type": "code",
      "metadata": {
        "colab": {
          "base_uri": "https://localhost:8080/"
        },
        "id": "qjiKVzl4_Mld",
        "outputId": "f1721aca-f67a-4511-faff-5de78aad6247"
      },
      "source": [
        "# check for null and empty vals in df\n",
        "np.where(annotations.applymap(lambda x: x == ''))"
      ],
      "execution_count": null,
      "outputs": [
        {
          "output_type": "execute_result",
          "data": {
            "text/plain": [
              "(array([], dtype=int64), array([], dtype=int64))"
            ]
          },
          "metadata": {},
          "execution_count": 19
        }
      ]
    },
    {
      "cell_type": "code",
      "metadata": {
        "colab": {
          "base_uri": "https://localhost:8080/",
          "height": 583
        },
        "id": "9X2qv86qEPrk",
        "outputId": "88afe84a-843e-4412-b1f7-0ffea98dfe8c"
      },
      "source": [
        "# note that annotations don't have all 24 models present in them\n",
        "annotations[['model_id', 'id']].groupby(['model_id']).count()"
      ],
      "execution_count": null,
      "outputs": [
        {
          "output_type": "execute_result",
          "data": {
            "text/html": [
              "<div>\n",
              "<style scoped>\n",
              "    .dataframe tbody tr th:only-of-type {\n",
              "        vertical-align: middle;\n",
              "    }\n",
              "\n",
              "    .dataframe tbody tr th {\n",
              "        vertical-align: top;\n",
              "    }\n",
              "\n",
              "    .dataframe thead th {\n",
              "        text-align: right;\n",
              "    }\n",
              "</style>\n",
              "<table border=\"1\" class=\"dataframe\">\n",
              "  <thead>\n",
              "    <tr style=\"text-align: right;\">\n",
              "      <th></th>\n",
              "      <th>id</th>\n",
              "    </tr>\n",
              "    <tr>\n",
              "      <th>model_id</th>\n",
              "      <th></th>\n",
              "    </tr>\n",
              "  </thead>\n",
              "  <tbody>\n",
              "    <tr>\n",
              "      <th>M0</th>\n",
              "      <td>100</td>\n",
              "    </tr>\n",
              "    <tr>\n",
              "      <th>M1</th>\n",
              "      <td>100</td>\n",
              "    </tr>\n",
              "    <tr>\n",
              "      <th>M10</th>\n",
              "      <td>100</td>\n",
              "    </tr>\n",
              "    <tr>\n",
              "      <th>M11</th>\n",
              "      <td>100</td>\n",
              "    </tr>\n",
              "    <tr>\n",
              "      <th>M12</th>\n",
              "      <td>100</td>\n",
              "    </tr>\n",
              "    <tr>\n",
              "      <th>M13</th>\n",
              "      <td>100</td>\n",
              "    </tr>\n",
              "    <tr>\n",
              "      <th>M14</th>\n",
              "      <td>100</td>\n",
              "    </tr>\n",
              "    <tr>\n",
              "      <th>M15</th>\n",
              "      <td>100</td>\n",
              "    </tr>\n",
              "    <tr>\n",
              "      <th>M17</th>\n",
              "      <td>100</td>\n",
              "    </tr>\n",
              "    <tr>\n",
              "      <th>M2</th>\n",
              "      <td>100</td>\n",
              "    </tr>\n",
              "    <tr>\n",
              "      <th>M20</th>\n",
              "      <td>100</td>\n",
              "    </tr>\n",
              "    <tr>\n",
              "      <th>M22</th>\n",
              "      <td>100</td>\n",
              "    </tr>\n",
              "    <tr>\n",
              "      <th>M23</th>\n",
              "      <td>100</td>\n",
              "    </tr>\n",
              "    <tr>\n",
              "      <th>M5</th>\n",
              "      <td>100</td>\n",
              "    </tr>\n",
              "    <tr>\n",
              "      <th>M8</th>\n",
              "      <td>100</td>\n",
              "    </tr>\n",
              "    <tr>\n",
              "      <th>M9</th>\n",
              "      <td>100</td>\n",
              "    </tr>\n",
              "  </tbody>\n",
              "</table>\n",
              "</div>"
            ],
            "text/plain": [
              "           id\n",
              "model_id     \n",
              "M0        100\n",
              "M1        100\n",
              "M10       100\n",
              "M11       100\n",
              "M12       100\n",
              "M13       100\n",
              "M14       100\n",
              "M15       100\n",
              "M17       100\n",
              "M2        100\n",
              "M20       100\n",
              "M22       100\n",
              "M23       100\n",
              "M5        100\n",
              "M8        100\n",
              "M9        100"
            ]
          },
          "metadata": {},
          "execution_count": 20
        }
      ]
    },
    {
      "cell_type": "markdown",
      "metadata": {
        "id": "6zrYBP540rdA"
      },
      "source": [
        "## Join Annotator Data & Model Summaries\n",
        "\n",
        "Key for join: combination of `id` and `model_id`"
      ]
    },
    {
      "cell_type": "code",
      "metadata": {
        "id": "HHzmD8zQtnSO"
      },
      "source": [
        "joined = pd.merge(annotations, model_summ, on = ['id', 'model_id'])"
      ],
      "execution_count": null,
      "outputs": []
    },
    {
      "cell_type": "code",
      "metadata": {
        "colab": {
          "base_uri": "https://localhost:8080/"
        },
        "id": "B6oDNuh9AWor",
        "outputId": "2c94e564-6ba9-4287-fe56-d32d6ae09b9c"
      },
      "source": [
        "# the reason we have more than 1600 rows here is because of the model variants\n",
        "# we will filter these later where the variant's decoded should equal the annotation's decoded\n",
        "joined.shape"
      ],
      "execution_count": null,
      "outputs": [
        {
          "output_type": "execute_result",
          "data": {
            "text/plain": [
              "(3232, 48)"
            ]
          },
          "metadata": {},
          "execution_count": 22
        }
      ]
    },
    {
      "cell_type": "code",
      "metadata": {
        "colab": {
          "base_uri": "https://localhost:8080/"
        },
        "id": "h-B8n8r9AuZR",
        "outputId": "6bf41e2f-1fb6-4662-9360-ea0895578dba"
      },
      "source": [
        "np.where(pd.isnull(joined))"
      ],
      "execution_count": null,
      "outputs": [
        {
          "output_type": "execute_result",
          "data": {
            "text/plain": [
              "(array([], dtype=int64), array([], dtype=int64))"
            ]
          },
          "metadata": {},
          "execution_count": 23
        }
      ]
    },
    {
      "cell_type": "code",
      "metadata": {
        "colab": {
          "base_uri": "https://localhost:8080/"
        },
        "id": "IxMuW8BXAwuX",
        "outputId": "1f5e755d-e881-4fa1-9c2b-ca097f50bd45"
      },
      "source": [
        "np.where(joined.applymap(lambda x: x == ''))"
      ],
      "execution_count": null,
      "outputs": [
        {
          "output_type": "execute_result",
          "data": {
            "text/plain": [
              "(array([], dtype=int64), array([], dtype=int64))"
            ]
          },
          "metadata": {},
          "execution_count": 24
        }
      ]
    },
    {
      "cell_type": "code",
      "metadata": {
        "colab": {
          "base_uri": "https://localhost:8080/",
          "height": 747
        },
        "id": "XpfcOKvQBii5",
        "outputId": "a178a791-3174-49b6-9855-8d90eb604f7b"
      },
      "source": [
        "joined.head()"
      ],
      "execution_count": null,
      "outputs": [
        {
          "output_type": "execute_result",
          "data": {
            "text/html": [
              "<div>\n",
              "<style scoped>\n",
              "    .dataframe tbody tr th:only-of-type {\n",
              "        vertical-align: middle;\n",
              "    }\n",
              "\n",
              "    .dataframe tbody tr th {\n",
              "        vertical-align: top;\n",
              "    }\n",
              "\n",
              "    .dataframe thead th {\n",
              "        text-align: right;\n",
              "    }\n",
              "</style>\n",
              "<table border=\"1\" class=\"dataframe\">\n",
              "  <thead>\n",
              "    <tr style=\"text-align: right;\">\n",
              "      <th></th>\n",
              "      <th>id</th>\n",
              "      <th>model_id</th>\n",
              "      <th>decoded_x</th>\n",
              "      <th>filepath_x</th>\n",
              "      <th>expert_0_coherence</th>\n",
              "      <th>expert_1_coherence</th>\n",
              "      <th>expert_2_coherence</th>\n",
              "      <th>all_expert_avg_coherence</th>\n",
              "      <th>expert_0_consistency</th>\n",
              "      <th>expert_1_consistency</th>\n",
              "      <th>expert_2_consistency</th>\n",
              "      <th>all_expert_avg_consistency</th>\n",
              "      <th>expert_0_fluency</th>\n",
              "      <th>expert_1_fluency</th>\n",
              "      <th>expert_2_fluency</th>\n",
              "      <th>all_expert_avg_fluency</th>\n",
              "      <th>expert_0_relevance</th>\n",
              "      <th>expert_1_relevance</th>\n",
              "      <th>expert_2_relevance</th>\n",
              "      <th>all_expert_avg_relevance</th>\n",
              "      <th>turk_0_coherence</th>\n",
              "      <th>turk_1_coherence</th>\n",
              "      <th>turk_2_coherence</th>\n",
              "      <th>turk_3_coherence</th>\n",
              "      <th>turk_4_coherence</th>\n",
              "      <th>all_turk_avg_coherence</th>\n",
              "      <th>turk_0_consistency</th>\n",
              "      <th>turk_1_consistency</th>\n",
              "      <th>turk_2_consistency</th>\n",
              "      <th>turk_3_consistency</th>\n",
              "      <th>turk_4_consistency</th>\n",
              "      <th>all_turk_avg_consistency</th>\n",
              "      <th>turk_0_fluency</th>\n",
              "      <th>turk_1_fluency</th>\n",
              "      <th>turk_2_fluency</th>\n",
              "      <th>turk_3_fluency</th>\n",
              "      <th>turk_4_fluency</th>\n",
              "      <th>all_turk_avg_fluency</th>\n",
              "      <th>turk_0_relevance</th>\n",
              "      <th>turk_1_relevance</th>\n",
              "      <th>turk_2_relevance</th>\n",
              "      <th>turk_3_relevance</th>\n",
              "      <th>turk_4_relevance</th>\n",
              "      <th>all_turk_avg_relevance</th>\n",
              "      <th>reference</th>\n",
              "      <th>decoded_y</th>\n",
              "      <th>filepath_y</th>\n",
              "      <th>model_variant</th>\n",
              "    </tr>\n",
              "  </thead>\n",
              "  <tbody>\n",
              "    <tr>\n",
              "      <th>0</th>\n",
              "      <td>dm-test-8764fb95bfad8ee849274873a92fb8d6b400eee2</td>\n",
              "      <td>M11</td>\n",
              "      <td>paul merson was brought on with only seven min...</td>\n",
              "      <td>cnndm/dailymail/stories/8764fb95bfad8ee8492748...</td>\n",
              "      <td>2</td>\n",
              "      <td>1</td>\n",
              "      <td>1</td>\n",
              "      <td>1.333333</td>\n",
              "      <td>1</td>\n",
              "      <td>1</td>\n",
              "      <td>1</td>\n",
              "      <td>1.0</td>\n",
              "      <td>4</td>\n",
              "      <td>2</td>\n",
              "      <td>3</td>\n",
              "      <td>3.0</td>\n",
              "      <td>2</td>\n",
              "      <td>1</td>\n",
              "      <td>2</td>\n",
              "      <td>1.666667</td>\n",
              "      <td>3</td>\n",
              "      <td>3</td>\n",
              "      <td>3</td>\n",
              "      <td>3</td>\n",
              "      <td>3</td>\n",
              "      <td>3.0</td>\n",
              "      <td>3</td>\n",
              "      <td>3</td>\n",
              "      <td>3</td>\n",
              "      <td>3</td>\n",
              "      <td>3</td>\n",
              "      <td>3.0</td>\n",
              "      <td>4</td>\n",
              "      <td>4</td>\n",
              "      <td>4</td>\n",
              "      <td>4</td>\n",
              "      <td>4</td>\n",
              "      <td>4.0</td>\n",
              "      <td>3</td>\n",
              "      <td>3</td>\n",
              "      <td>3</td>\n",
              "      <td>3</td>\n",
              "      <td>3</td>\n",
              "      <td>3.0</td>\n",
              "      <td>andros townsend an 83rd minute sub in tottenha...</td>\n",
              "      <td>paul merson was brought on with only seven min...</td>\n",
              "      <td>cnndm/dailymail/stories/8764fb95bfad8ee8492748...</td>\n",
              "      <td>M11/aligned/outputs_novelty.aligned.jsonl</td>\n",
              "    </tr>\n",
              "    <tr>\n",
              "      <th>1</th>\n",
              "      <td>dm-test-8764fb95bfad8ee849274873a92fb8d6b400eee2</td>\n",
              "      <td>M11</td>\n",
              "      <td>paul merson was brought on with only seven min...</td>\n",
              "      <td>cnndm/dailymail/stories/8764fb95bfad8ee8492748...</td>\n",
              "      <td>2</td>\n",
              "      <td>1</td>\n",
              "      <td>1</td>\n",
              "      <td>1.333333</td>\n",
              "      <td>1</td>\n",
              "      <td>1</td>\n",
              "      <td>1</td>\n",
              "      <td>1.0</td>\n",
              "      <td>4</td>\n",
              "      <td>2</td>\n",
              "      <td>3</td>\n",
              "      <td>3.0</td>\n",
              "      <td>2</td>\n",
              "      <td>1</td>\n",
              "      <td>2</td>\n",
              "      <td>1.666667</td>\n",
              "      <td>3</td>\n",
              "      <td>3</td>\n",
              "      <td>3</td>\n",
              "      <td>3</td>\n",
              "      <td>3</td>\n",
              "      <td>3.0</td>\n",
              "      <td>3</td>\n",
              "      <td>3</td>\n",
              "      <td>3</td>\n",
              "      <td>3</td>\n",
              "      <td>3</td>\n",
              "      <td>3.0</td>\n",
              "      <td>4</td>\n",
              "      <td>4</td>\n",
              "      <td>4</td>\n",
              "      <td>4</td>\n",
              "      <td>4</td>\n",
              "      <td>4.0</td>\n",
              "      <td>3</td>\n",
              "      <td>3</td>\n",
              "      <td>3</td>\n",
              "      <td>3</td>\n",
              "      <td>3</td>\n",
              "      <td>3.0</td>\n",
              "      <td>andros townsend an 83rd minute sub in tottenha...</td>\n",
              "      <td>paul merson was brought on with only seven min...</td>\n",
              "      <td>cnndm/dailymail/stories/8764fb95bfad8ee8492748...</td>\n",
              "      <td>M11/aligned/outputs_baseline.aligned.jsonl</td>\n",
              "    </tr>\n",
              "    <tr>\n",
              "      <th>2</th>\n",
              "      <td>dm-test-8764fb95bfad8ee849274873a92fb8d6b400eee2</td>\n",
              "      <td>M11</td>\n",
              "      <td>paul merson was brought on with only seven min...</td>\n",
              "      <td>cnndm/dailymail/stories/8764fb95bfad8ee8492748...</td>\n",
              "      <td>2</td>\n",
              "      <td>1</td>\n",
              "      <td>1</td>\n",
              "      <td>1.333333</td>\n",
              "      <td>1</td>\n",
              "      <td>1</td>\n",
              "      <td>1</td>\n",
              "      <td>1.0</td>\n",
              "      <td>4</td>\n",
              "      <td>2</td>\n",
              "      <td>3</td>\n",
              "      <td>3.0</td>\n",
              "      <td>2</td>\n",
              "      <td>1</td>\n",
              "      <td>2</td>\n",
              "      <td>1.666667</td>\n",
              "      <td>3</td>\n",
              "      <td>3</td>\n",
              "      <td>3</td>\n",
              "      <td>3</td>\n",
              "      <td>3</td>\n",
              "      <td>3.0</td>\n",
              "      <td>3</td>\n",
              "      <td>3</td>\n",
              "      <td>3</td>\n",
              "      <td>3</td>\n",
              "      <td>3</td>\n",
              "      <td>3.0</td>\n",
              "      <td>4</td>\n",
              "      <td>4</td>\n",
              "      <td>4</td>\n",
              "      <td>4</td>\n",
              "      <td>4</td>\n",
              "      <td>4.0</td>\n",
              "      <td>3</td>\n",
              "      <td>3</td>\n",
              "      <td>3</td>\n",
              "      <td>3</td>\n",
              "      <td>3</td>\n",
              "      <td>3.0</td>\n",
              "      <td>andros townsend an 83rd minute sub in tottenha...</td>\n",
              "      <td>paul merson was brought on with only seven min...</td>\n",
              "      <td>cnndm/dailymail/stories/8764fb95bfad8ee8492748...</td>\n",
              "      <td>M11/aligned/outputs_novelty+lm.aligned.jsonl</td>\n",
              "    </tr>\n",
              "    <tr>\n",
              "      <th>3</th>\n",
              "      <td>dm-test-8764fb95bfad8ee849274873a92fb8d6b400eee2</td>\n",
              "      <td>M13</td>\n",
              "      <td>paul merson has restarted his row with andros ...</td>\n",
              "      <td>cnndm/dailymail/stories/8764fb95bfad8ee8492748...</td>\n",
              "      <td>3</td>\n",
              "      <td>2</td>\n",
              "      <td>2</td>\n",
              "      <td>2.333333</td>\n",
              "      <td>5</td>\n",
              "      <td>5</td>\n",
              "      <td>5</td>\n",
              "      <td>5.0</td>\n",
              "      <td>5</td>\n",
              "      <td>5</td>\n",
              "      <td>5</td>\n",
              "      <td>5.0</td>\n",
              "      <td>2</td>\n",
              "      <td>3</td>\n",
              "      <td>3</td>\n",
              "      <td>2.666667</td>\n",
              "      <td>2</td>\n",
              "      <td>2</td>\n",
              "      <td>2</td>\n",
              "      <td>2</td>\n",
              "      <td>2</td>\n",
              "      <td>2.0</td>\n",
              "      <td>3</td>\n",
              "      <td>3</td>\n",
              "      <td>3</td>\n",
              "      <td>3</td>\n",
              "      <td>3</td>\n",
              "      <td>3.0</td>\n",
              "      <td>2</td>\n",
              "      <td>2</td>\n",
              "      <td>2</td>\n",
              "      <td>2</td>\n",
              "      <td>2</td>\n",
              "      <td>2.0</td>\n",
              "      <td>3</td>\n",
              "      <td>3</td>\n",
              "      <td>3</td>\n",
              "      <td>3</td>\n",
              "      <td>3</td>\n",
              "      <td>3.0</td>\n",
              "      <td>andros townsend an 83rd minute sub in tottenha...</td>\n",
              "      <td>paul merson has restarted his row with andros ...</td>\n",
              "      <td>cnndm/dailymail/stories/8764fb95bfad8ee8492748...</td>\n",
              "      <td>M13/aligned/outputs.aligned.jsonl</td>\n",
              "    </tr>\n",
              "    <tr>\n",
              "      <th>4</th>\n",
              "      <td>dm-test-8764fb95bfad8ee849274873a92fb8d6b400eee2</td>\n",
              "      <td>M1</td>\n",
              "      <td>paul merson has restarted his row with andros ...</td>\n",
              "      <td>cnndm/dailymail/stories/8764fb95bfad8ee8492748...</td>\n",
              "      <td>2</td>\n",
              "      <td>2</td>\n",
              "      <td>3</td>\n",
              "      <td>2.333333</td>\n",
              "      <td>5</td>\n",
              "      <td>5</td>\n",
              "      <td>5</td>\n",
              "      <td>5.0</td>\n",
              "      <td>5</td>\n",
              "      <td>5</td>\n",
              "      <td>5</td>\n",
              "      <td>5.0</td>\n",
              "      <td>2</td>\n",
              "      <td>4</td>\n",
              "      <td>2</td>\n",
              "      <td>2.666667</td>\n",
              "      <td>4</td>\n",
              "      <td>5</td>\n",
              "      <td>4</td>\n",
              "      <td>4</td>\n",
              "      <td>2</td>\n",
              "      <td>3.8</td>\n",
              "      <td>5</td>\n",
              "      <td>4</td>\n",
              "      <td>5</td>\n",
              "      <td>5</td>\n",
              "      <td>2</td>\n",
              "      <td>4.2</td>\n",
              "      <td>4</td>\n",
              "      <td>4</td>\n",
              "      <td>4</td>\n",
              "      <td>4</td>\n",
              "      <td>3</td>\n",
              "      <td>3.8</td>\n",
              "      <td>5</td>\n",
              "      <td>4</td>\n",
              "      <td>5</td>\n",
              "      <td>5</td>\n",
              "      <td>4</td>\n",
              "      <td>4.6</td>\n",
              "      <td>andros townsend an 83rd minute sub in tottenha...</td>\n",
              "      <td>paul merson has restarted his row with andros ...</td>\n",
              "      <td>cnndm/dailymail/stories/8764fb95bfad8ee8492748...</td>\n",
              "      <td>M1/aligned/outputs.aligned.jsonl</td>\n",
              "    </tr>\n",
              "  </tbody>\n",
              "</table>\n",
              "</div>"
            ],
            "text/plain": [
              "                                                 id  ...                                 model_variant\n",
              "0  dm-test-8764fb95bfad8ee849274873a92fb8d6b400eee2  ...     M11/aligned/outputs_novelty.aligned.jsonl\n",
              "1  dm-test-8764fb95bfad8ee849274873a92fb8d6b400eee2  ...    M11/aligned/outputs_baseline.aligned.jsonl\n",
              "2  dm-test-8764fb95bfad8ee849274873a92fb8d6b400eee2  ...  M11/aligned/outputs_novelty+lm.aligned.jsonl\n",
              "3  dm-test-8764fb95bfad8ee849274873a92fb8d6b400eee2  ...             M13/aligned/outputs.aligned.jsonl\n",
              "4  dm-test-8764fb95bfad8ee849274873a92fb8d6b400eee2  ...              M1/aligned/outputs.aligned.jsonl\n",
              "\n",
              "[5 rows x 48 columns]"
            ]
          },
          "metadata": {},
          "execution_count": 25
        }
      ]
    },
    {
      "cell_type": "code",
      "metadata": {
        "colab": {
          "base_uri": "https://localhost:8080/"
        },
        "id": "wHgiT3tXCWkE",
        "outputId": "2408f370-da99-4056-b5e7-220d162f9242"
      },
      "source": [
        "# models that were in the model summaries but were not in the annotations \n",
        "# this shows that the annotations didn't include some models\n",
        "assert len(list(model_summ.model_id.unique())) == total_models\n",
        "missing_models = [x for x in list(model_summ.model_id.unique()) if x not in list(joined.model_id.unique())] \n",
        "print(missing_models)\n",
        "# there were 16 models remaining in the annotations, for which we have 16x100 = 1600 data points \n",
        "print(total_models - len(missing_models))"
      ],
      "execution_count": null,
      "outputs": [
        {
          "output_type": "stream",
          "name": "stdout",
          "text": [
            "['M3', 'M4', 'M6', 'M7', 'M16', 'M18', 'M19', 'M21']\n",
            "16\n"
          ]
        }
      ]
    },
    {
      "cell_type": "code",
      "metadata": {
        "id": "zLAUFMmdGV2a"
      },
      "source": [
        "# the annotation's summary output for the model should match the model variant's summary output\n",
        "# only keep those rows where it matches as the annotation was done only for that variant\n",
        "joined = joined.loc[joined['decoded_x'] == joined['decoded_y']]"
      ],
      "execution_count": null,
      "outputs": []
    },
    {
      "cell_type": "code",
      "metadata": {
        "colab": {
          "base_uri": "https://localhost:8080/"
        },
        "id": "kqvZT01fIni5",
        "outputId": "fd29724d-0665-45f2-8339-9bf9bb352f5a"
      },
      "source": [
        "# we see the rows decrease because the scoring (annotation) was done on a subset of the variants of a single model\n",
        "joined.shape"
      ],
      "execution_count": null,
      "outputs": [
        {
          "output_type": "execute_result",
          "data": {
            "text/plain": [
              "(1653, 48)"
            ]
          },
          "metadata": {},
          "execution_count": 28
        }
      ]
    },
    {
      "cell_type": "code",
      "metadata": {
        "colab": {
          "base_uri": "https://localhost:8080/"
        },
        "id": "vwyxEGPWIoi4",
        "outputId": "433e6015-185d-4a23-b155-287a89cad231"
      },
      "source": [
        "# shows that some variants of a single model produced the same summary as another variant of the same model\n",
        "# for example, 38 examples of M5's variant produced the same summary output as the baseline M5 model \n",
        "joined[['model_id', 'model_variant']].value_counts()"
      ],
      "execution_count": null,
      "outputs": [
        {
          "output_type": "execute_result",
          "data": {
            "text/plain": [
              "model_id  model_variant                                     \n",
              "M0        M0/aligned/outputs.aligned.jsonl                      100\n",
              "M2        M2/aligned/outputs.aligned.jsonl                      100\n",
              "M14       M14/aligned/outputs.aligned.jsonl                     100\n",
              "M15       M15/aligned/outputs_coverage.aligned.jsonl            100\n",
              "M11       M11/aligned/outputs_novelty.aligned.jsonl             100\n",
              "M17       M17/aligned/outputs_11B.aligned.jsonl                 100\n",
              "M9        M9/aligned/outputs_extabs+rl+rerank.aligned.jsonl     100\n",
              "M10       M10/aligned/outputs_encdec.aligned.jsonl              100\n",
              "M20       M20/aligned/outputs_zeroshot.aligned.jsonl            100\n",
              "M12       M12/aligned/outputs.aligned.jsonl                     100\n",
              "M22       M22/aligned/outputs_cnndm.aligned.jsonl               100\n",
              "M5        M5/aligned/outputs_rouge.aligned.jsonl                100\n",
              "M8        M8/aligned/outputs_ptrgen+cov.aligned.jsonl           100\n",
              "M1        M1/aligned/outputs.aligned.jsonl                      100\n",
              "M13       M13/aligned/outputs.aligned.jsonl                     100\n",
              "M23       M23/aligned/outputs_c4_cnn_dailymail.aligned.jsonl     99\n",
              "M5        M5/aligned/outputs_rouge+coh.aligned.jsonl             38\n",
              "M9        M9/aligned/outputs_extabs+rl.aligned.jsonl              4\n",
              "M15       M15/aligned/outputs_noncoverage.aligned.jsonl           4\n",
              "M8        M8/aligned/outputs_ptrgen.aligned.jsonl                 3\n",
              "M17       M17/aligned/outputs_3B.aligned.jsonl                    3\n",
              "          M17/aligned/outputs_large.aligned.jsonl                 2\n",
              "dtype: int64"
            ]
          },
          "metadata": {},
          "execution_count": 29
        }
      ]
    },
    {
      "cell_type": "code",
      "metadata": {
        "id": "uv3wzpVyMZOV"
      },
      "source": [
        "# clean up dataframe and store for future use\n",
        "joined = joined.rename(columns={\"id\": \"story_id\", \"decoded_x\": \"decoded\"})\n",
        "joined = joined.drop(columns=['filepath_x', 'filepath_y', 'decoded_y'])"
      ],
      "execution_count": null,
      "outputs": []
    },
    {
      "cell_type": "code",
      "metadata": {
        "colab": {
          "base_uri": "https://localhost:8080/",
          "height": 833
        },
        "id": "iwFhkBXPPd37",
        "outputId": "c1e20d26-de45-4417-c0d0-044b1dd36c95"
      },
      "source": [
        "joined.head()"
      ],
      "execution_count": null,
      "outputs": [
        {
          "output_type": "execute_result",
          "data": {
            "text/html": [
              "<div>\n",
              "<style scoped>\n",
              "    .dataframe tbody tr th:only-of-type {\n",
              "        vertical-align: middle;\n",
              "    }\n",
              "\n",
              "    .dataframe tbody tr th {\n",
              "        vertical-align: top;\n",
              "    }\n",
              "\n",
              "    .dataframe thead th {\n",
              "        text-align: right;\n",
              "    }\n",
              "</style>\n",
              "<table border=\"1\" class=\"dataframe\">\n",
              "  <thead>\n",
              "    <tr style=\"text-align: right;\">\n",
              "      <th></th>\n",
              "      <th>story_id</th>\n",
              "      <th>model_id</th>\n",
              "      <th>decoded</th>\n",
              "      <th>expert_0_coherence</th>\n",
              "      <th>expert_1_coherence</th>\n",
              "      <th>expert_2_coherence</th>\n",
              "      <th>all_expert_avg_coherence</th>\n",
              "      <th>expert_0_consistency</th>\n",
              "      <th>expert_1_consistency</th>\n",
              "      <th>expert_2_consistency</th>\n",
              "      <th>all_expert_avg_consistency</th>\n",
              "      <th>expert_0_fluency</th>\n",
              "      <th>expert_1_fluency</th>\n",
              "      <th>expert_2_fluency</th>\n",
              "      <th>all_expert_avg_fluency</th>\n",
              "      <th>expert_0_relevance</th>\n",
              "      <th>expert_1_relevance</th>\n",
              "      <th>expert_2_relevance</th>\n",
              "      <th>all_expert_avg_relevance</th>\n",
              "      <th>turk_0_coherence</th>\n",
              "      <th>turk_1_coherence</th>\n",
              "      <th>turk_2_coherence</th>\n",
              "      <th>turk_3_coherence</th>\n",
              "      <th>turk_4_coherence</th>\n",
              "      <th>all_turk_avg_coherence</th>\n",
              "      <th>turk_0_consistency</th>\n",
              "      <th>turk_1_consistency</th>\n",
              "      <th>turk_2_consistency</th>\n",
              "      <th>turk_3_consistency</th>\n",
              "      <th>turk_4_consistency</th>\n",
              "      <th>all_turk_avg_consistency</th>\n",
              "      <th>turk_0_fluency</th>\n",
              "      <th>turk_1_fluency</th>\n",
              "      <th>turk_2_fluency</th>\n",
              "      <th>turk_3_fluency</th>\n",
              "      <th>turk_4_fluency</th>\n",
              "      <th>all_turk_avg_fluency</th>\n",
              "      <th>turk_0_relevance</th>\n",
              "      <th>turk_1_relevance</th>\n",
              "      <th>turk_2_relevance</th>\n",
              "      <th>turk_3_relevance</th>\n",
              "      <th>turk_4_relevance</th>\n",
              "      <th>all_turk_avg_relevance</th>\n",
              "      <th>reference</th>\n",
              "      <th>model_variant</th>\n",
              "    </tr>\n",
              "  </thead>\n",
              "  <tbody>\n",
              "    <tr>\n",
              "      <th>0</th>\n",
              "      <td>dm-test-8764fb95bfad8ee849274873a92fb8d6b400eee2</td>\n",
              "      <td>M11</td>\n",
              "      <td>paul merson was brought on with only seven min...</td>\n",
              "      <td>2</td>\n",
              "      <td>1</td>\n",
              "      <td>1</td>\n",
              "      <td>1.333333</td>\n",
              "      <td>1</td>\n",
              "      <td>1</td>\n",
              "      <td>1</td>\n",
              "      <td>1.0</td>\n",
              "      <td>4</td>\n",
              "      <td>2</td>\n",
              "      <td>3</td>\n",
              "      <td>3.000000</td>\n",
              "      <td>2</td>\n",
              "      <td>1</td>\n",
              "      <td>2</td>\n",
              "      <td>1.666667</td>\n",
              "      <td>3</td>\n",
              "      <td>3</td>\n",
              "      <td>3</td>\n",
              "      <td>3</td>\n",
              "      <td>3</td>\n",
              "      <td>3.0</td>\n",
              "      <td>3</td>\n",
              "      <td>3</td>\n",
              "      <td>3</td>\n",
              "      <td>3</td>\n",
              "      <td>3</td>\n",
              "      <td>3.0</td>\n",
              "      <td>4</td>\n",
              "      <td>4</td>\n",
              "      <td>4</td>\n",
              "      <td>4</td>\n",
              "      <td>4</td>\n",
              "      <td>4.0</td>\n",
              "      <td>3</td>\n",
              "      <td>3</td>\n",
              "      <td>3</td>\n",
              "      <td>3</td>\n",
              "      <td>3</td>\n",
              "      <td>3.0</td>\n",
              "      <td>andros townsend an 83rd minute sub in tottenha...</td>\n",
              "      <td>M11/aligned/outputs_novelty.aligned.jsonl</td>\n",
              "    </tr>\n",
              "    <tr>\n",
              "      <th>3</th>\n",
              "      <td>dm-test-8764fb95bfad8ee849274873a92fb8d6b400eee2</td>\n",
              "      <td>M13</td>\n",
              "      <td>paul merson has restarted his row with andros ...</td>\n",
              "      <td>3</td>\n",
              "      <td>2</td>\n",
              "      <td>2</td>\n",
              "      <td>2.333333</td>\n",
              "      <td>5</td>\n",
              "      <td>5</td>\n",
              "      <td>5</td>\n",
              "      <td>5.0</td>\n",
              "      <td>5</td>\n",
              "      <td>5</td>\n",
              "      <td>5</td>\n",
              "      <td>5.000000</td>\n",
              "      <td>2</td>\n",
              "      <td>3</td>\n",
              "      <td>3</td>\n",
              "      <td>2.666667</td>\n",
              "      <td>2</td>\n",
              "      <td>2</td>\n",
              "      <td>2</td>\n",
              "      <td>2</td>\n",
              "      <td>2</td>\n",
              "      <td>2.0</td>\n",
              "      <td>3</td>\n",
              "      <td>3</td>\n",
              "      <td>3</td>\n",
              "      <td>3</td>\n",
              "      <td>3</td>\n",
              "      <td>3.0</td>\n",
              "      <td>2</td>\n",
              "      <td>2</td>\n",
              "      <td>2</td>\n",
              "      <td>2</td>\n",
              "      <td>2</td>\n",
              "      <td>2.0</td>\n",
              "      <td>3</td>\n",
              "      <td>3</td>\n",
              "      <td>3</td>\n",
              "      <td>3</td>\n",
              "      <td>3</td>\n",
              "      <td>3.0</td>\n",
              "      <td>andros townsend an 83rd minute sub in tottenha...</td>\n",
              "      <td>M13/aligned/outputs.aligned.jsonl</td>\n",
              "    </tr>\n",
              "    <tr>\n",
              "      <th>4</th>\n",
              "      <td>dm-test-8764fb95bfad8ee849274873a92fb8d6b400eee2</td>\n",
              "      <td>M1</td>\n",
              "      <td>paul merson has restarted his row with andros ...</td>\n",
              "      <td>2</td>\n",
              "      <td>2</td>\n",
              "      <td>3</td>\n",
              "      <td>2.333333</td>\n",
              "      <td>5</td>\n",
              "      <td>5</td>\n",
              "      <td>5</td>\n",
              "      <td>5.0</td>\n",
              "      <td>5</td>\n",
              "      <td>5</td>\n",
              "      <td>5</td>\n",
              "      <td>5.000000</td>\n",
              "      <td>2</td>\n",
              "      <td>4</td>\n",
              "      <td>2</td>\n",
              "      <td>2.666667</td>\n",
              "      <td>4</td>\n",
              "      <td>5</td>\n",
              "      <td>4</td>\n",
              "      <td>4</td>\n",
              "      <td>2</td>\n",
              "      <td>3.8</td>\n",
              "      <td>5</td>\n",
              "      <td>4</td>\n",
              "      <td>5</td>\n",
              "      <td>5</td>\n",
              "      <td>2</td>\n",
              "      <td>4.2</td>\n",
              "      <td>4</td>\n",
              "      <td>4</td>\n",
              "      <td>4</td>\n",
              "      <td>4</td>\n",
              "      <td>3</td>\n",
              "      <td>3.8</td>\n",
              "      <td>5</td>\n",
              "      <td>4</td>\n",
              "      <td>5</td>\n",
              "      <td>5</td>\n",
              "      <td>4</td>\n",
              "      <td>4.6</td>\n",
              "      <td>andros townsend an 83rd minute sub in tottenha...</td>\n",
              "      <td>M1/aligned/outputs.aligned.jsonl</td>\n",
              "    </tr>\n",
              "    <tr>\n",
              "      <th>5</th>\n",
              "      <td>dm-test-8764fb95bfad8ee849274873a92fb8d6b400eee2</td>\n",
              "      <td>M14</td>\n",
              "      <td>paul merson has restarted his row with andros ...</td>\n",
              "      <td>2</td>\n",
              "      <td>1</td>\n",
              "      <td>2</td>\n",
              "      <td>1.666667</td>\n",
              "      <td>5</td>\n",
              "      <td>5</td>\n",
              "      <td>5</td>\n",
              "      <td>5.0</td>\n",
              "      <td>5</td>\n",
              "      <td>5</td>\n",
              "      <td>5</td>\n",
              "      <td>5.000000</td>\n",
              "      <td>3</td>\n",
              "      <td>2</td>\n",
              "      <td>3</td>\n",
              "      <td>2.666667</td>\n",
              "      <td>5</td>\n",
              "      <td>5</td>\n",
              "      <td>5</td>\n",
              "      <td>5</td>\n",
              "      <td>5</td>\n",
              "      <td>5.0</td>\n",
              "      <td>5</td>\n",
              "      <td>5</td>\n",
              "      <td>5</td>\n",
              "      <td>5</td>\n",
              "      <td>5</td>\n",
              "      <td>5.0</td>\n",
              "      <td>5</td>\n",
              "      <td>5</td>\n",
              "      <td>5</td>\n",
              "      <td>5</td>\n",
              "      <td>5</td>\n",
              "      <td>5.0</td>\n",
              "      <td>4</td>\n",
              "      <td>4</td>\n",
              "      <td>4</td>\n",
              "      <td>4</td>\n",
              "      <td>4</td>\n",
              "      <td>4.0</td>\n",
              "      <td>andros townsend an 83rd minute sub in tottenha...</td>\n",
              "      <td>M14/aligned/outputs.aligned.jsonl</td>\n",
              "    </tr>\n",
              "    <tr>\n",
              "      <th>6</th>\n",
              "      <td>dm-test-8764fb95bfad8ee849274873a92fb8d6b400eee2</td>\n",
              "      <td>M15</td>\n",
              "      <td>paul merson has restarted his row with andros ...</td>\n",
              "      <td>4</td>\n",
              "      <td>3</td>\n",
              "      <td>3</td>\n",
              "      <td>3.333333</td>\n",
              "      <td>5</td>\n",
              "      <td>5</td>\n",
              "      <td>5</td>\n",
              "      <td>5.0</td>\n",
              "      <td>3</td>\n",
              "      <td>3</td>\n",
              "      <td>4</td>\n",
              "      <td>3.333333</td>\n",
              "      <td>4</td>\n",
              "      <td>4</td>\n",
              "      <td>4</td>\n",
              "      <td>4.000000</td>\n",
              "      <td>2</td>\n",
              "      <td>2</td>\n",
              "      <td>2</td>\n",
              "      <td>2</td>\n",
              "      <td>2</td>\n",
              "      <td>2.0</td>\n",
              "      <td>4</td>\n",
              "      <td>4</td>\n",
              "      <td>4</td>\n",
              "      <td>4</td>\n",
              "      <td>4</td>\n",
              "      <td>4.0</td>\n",
              "      <td>2</td>\n",
              "      <td>2</td>\n",
              "      <td>2</td>\n",
              "      <td>2</td>\n",
              "      <td>2</td>\n",
              "      <td>2.0</td>\n",
              "      <td>4</td>\n",
              "      <td>4</td>\n",
              "      <td>4</td>\n",
              "      <td>4</td>\n",
              "      <td>4</td>\n",
              "      <td>4.0</td>\n",
              "      <td>andros townsend an 83rd minute sub in tottenha...</td>\n",
              "      <td>M15/aligned/outputs_coverage.aligned.jsonl</td>\n",
              "    </tr>\n",
              "  </tbody>\n",
              "</table>\n",
              "</div>"
            ],
            "text/plain": [
              "                                           story_id  ...                               model_variant\n",
              "0  dm-test-8764fb95bfad8ee849274873a92fb8d6b400eee2  ...   M11/aligned/outputs_novelty.aligned.jsonl\n",
              "3  dm-test-8764fb95bfad8ee849274873a92fb8d6b400eee2  ...           M13/aligned/outputs.aligned.jsonl\n",
              "4  dm-test-8764fb95bfad8ee849274873a92fb8d6b400eee2  ...            M1/aligned/outputs.aligned.jsonl\n",
              "5  dm-test-8764fb95bfad8ee849274873a92fb8d6b400eee2  ...           M14/aligned/outputs.aligned.jsonl\n",
              "6  dm-test-8764fb95bfad8ee849274873a92fb8d6b400eee2  ...  M15/aligned/outputs_coverage.aligned.jsonl\n",
              "\n",
              "[5 rows x 45 columns]"
            ]
          },
          "metadata": {},
          "execution_count": 31
        }
      ]
    },
    {
      "cell_type": "markdown",
      "metadata": {
        "id": "Ut-YeyusP1jT"
      },
      "source": [
        "# Store Data as CSV\n",
        "\n",
        "\n"
      ]
    },
    {
      "cell_type": "code",
      "metadata": {
        "colab": {
          "base_uri": "https://localhost:8080/",
          "height": 17
        },
        "id": "0W7Mhd2uP6yv",
        "outputId": "3bf34d2e-751c-4e8c-cf42-9afcead68685"
      },
      "source": [
        "import datetime\n",
        "from google.colab import files\n",
        "\n",
        "now = datetime.datetime.now()\n",
        "filename = now.strftime(\"%Y-%m-%d-%H-%M-%S\")\n",
        "\n",
        "compression_opts = dict(method='zip', archive_name='data.csv')\n",
        "\n",
        "joined.to_csv('{}.zip'.format(filename), index=False, compression = compression_opts)\n",
        "files.download('{}.zip'.format(filename))"
      ],
      "execution_count": null,
      "outputs": [
        {
          "output_type": "display_data",
          "data": {
            "application/javascript": [
              "\n",
              "    async function download(id, filename, size) {\n",
              "      if (!google.colab.kernel.accessAllowed) {\n",
              "        return;\n",
              "      }\n",
              "      const div = document.createElement('div');\n",
              "      const label = document.createElement('label');\n",
              "      label.textContent = `Downloading \"${filename}\": `;\n",
              "      div.appendChild(label);\n",
              "      const progress = document.createElement('progress');\n",
              "      progress.max = size;\n",
              "      div.appendChild(progress);\n",
              "      document.body.appendChild(div);\n",
              "\n",
              "      const buffers = [];\n",
              "      let downloaded = 0;\n",
              "\n",
              "      const channel = await google.colab.kernel.comms.open(id);\n",
              "      // Send a message to notify the kernel that we're ready.\n",
              "      channel.send({})\n",
              "\n",
              "      for await (const message of channel.messages) {\n",
              "        // Send a message to notify the kernel that we're ready.\n",
              "        channel.send({})\n",
              "        if (message.buffers) {\n",
              "          for (const buffer of message.buffers) {\n",
              "            buffers.push(buffer);\n",
              "            downloaded += buffer.byteLength;\n",
              "            progress.value = downloaded;\n",
              "          }\n",
              "        }\n",
              "      }\n",
              "      const blob = new Blob(buffers, {type: 'application/binary'});\n",
              "      const a = document.createElement('a');\n",
              "      a.href = window.URL.createObjectURL(blob);\n",
              "      a.download = filename;\n",
              "      div.appendChild(a);\n",
              "      a.click();\n",
              "      div.remove();\n",
              "    }\n",
              "  "
            ],
            "text/plain": [
              "<IPython.core.display.Javascript object>"
            ]
          },
          "metadata": {}
        },
        {
          "output_type": "display_data",
          "data": {
            "application/javascript": [
              "download(\"download_da70fafb-f763-4b72-9175-56ba1add1785\", \"2021-11-27-02-47-36.zip\", 145660)"
            ],
            "text/plain": [
              "<IPython.core.display.Javascript object>"
            ]
          },
          "metadata": {}
        }
      ]
    },
    {
      "cell_type": "markdown",
      "metadata": {
        "id": "Ky-3dRDoNKl1"
      },
      "source": [
        "# Misc Utils"
      ]
    },
    {
      "cell_type": "code",
      "metadata": {
        "colab": {
          "base_uri": "https://localhost:8080/"
        },
        "id": "7KBwBFgaMrsF",
        "outputId": "90183ceb-9913-43be-916b-6a800a0c58e3"
      },
      "source": [
        "!pip install -q datasets "
      ],
      "execution_count": 1,
      "outputs": [
        {
          "output_type": "stream",
          "name": "stdout",
          "text": [
            "\u001b[K     |████████████████████████████████| 298 kB 5.2 MB/s \n",
            "\u001b[K     |████████████████████████████████| 243 kB 35.1 MB/s \n",
            "\u001b[K     |████████████████████████████████| 1.1 MB 21.7 MB/s \n",
            "\u001b[K     |████████████████████████████████| 132 kB 37.9 MB/s \n",
            "\u001b[K     |████████████████████████████████| 59 kB 4.3 MB/s \n",
            "\u001b[K     |████████████████████████████████| 192 kB 31.1 MB/s \n",
            "\u001b[K     |████████████████████████████████| 160 kB 45.0 MB/s \n",
            "\u001b[K     |████████████████████████████████| 271 kB 48.7 MB/s \n",
            "\u001b[?25h"
          ]
        }
      ]
    },
    {
      "cell_type": "code",
      "metadata": {
        "id": "gkHHos9aPQlC"
      },
      "source": [
        "all_articles = datasets.load_dataset(\"cnn_dailymail\", \"3.0.0\")"
      ],
      "execution_count": null,
      "outputs": []
    },
    {
      "cell_type": "code",
      "metadata": {
        "id": "p-NAtMQAELWy"
      },
      "source": [
        "import datasets\n",
        "\n",
        "def get_cnndm_by_id(dataset, id, return_article_only=True):\n",
        "  id = id.replace('dm-test-', '')\n",
        "  id = id.replace('dm-train-', '')\n",
        "  id = id.replace('dm-dev-', '')\n",
        "  id = id.replace('dm-val-', '')\n",
        "\n",
        "  id = id.replace('cnn-test-', '')\n",
        "  id = id.replace('cnn-train-', '')\n",
        "  id = id.replace('cnn-dev-', '')\n",
        "  id = id.replace('cnn-val-', '')\n",
        "  try:\n",
        "    highlight = dataset.filter(lambda x: x['id'] == id)['highlights'][0]\n",
        "    article = dataset.filter(lambda x: x['id'] == id)['article'][0]\n",
        "  except:\n",
        "    return None\n",
        "  if return_article_only:\n",
        "    return article\n",
        "    \n",
        "  return article, highlight"
      ],
      "execution_count": 7,
      "outputs": []
    },
    {
      "cell_type": "code",
      "metadata": {
        "colab": {
          "base_uri": "https://localhost:8080/"
        },
        "id": "5yVmQAEFMvaT",
        "outputId": "3a9e951e-2fe2-497a-f0fc-b91bf16af9ce"
      },
      "source": [
        "id = 'fbbafa743a8c2ecd2cedf65c6c61956b2db8ec5c'\n",
        "print(get_cnndm_by_id(all_articles['test'], id))"
      ],
      "execution_count": 8,
      "outputs": [
        {
          "output_type": "stream",
          "name": "stderr",
          "text": [
            "Loading cached processed dataset at /root/.cache/huggingface/datasets/cnn_dailymail/3.0.0/3.0.0/3cb851bf7cf5826e45d49db2863f627cba583cbc32342df7349dfe6c38060234/cache-f34474f8f74c4d4a.arrow\n",
            "Loading cached processed dataset at /root/.cache/huggingface/datasets/cnn_dailymail/3.0.0/3.0.0/3cb851bf7cf5826e45d49db2863f627cba583cbc32342df7349dfe6c38060234/cache-f34474f8f74c4d4a.arrow\n"
          ]
        },
        {
          "output_type": "stream",
          "name": "stdout",
          "text": [
            "(CNN)One of the biggest TV events of all time is being reimagined for new audiences. \"Roots,\" the epic miniseries about an African-American slave and his descendants, had a staggering audience of over 100 million viewers back in 1977. Now A&E networks are remaking the miniseries, to air in 2016. A&E, Lifetime and History (formerly the History Channel) announced Thursday that the three networks would simulcast a remake of the saga of Kunta Kinte, an African who was captured, shipped to America and sold into slavery to work on a Virginia plantation. LeVar Burton, who portrayed Kinte in the original, will co-executive produce the new miniseries. A press release describes the new version as \"original\" and \"contemporary\" and will draw more from Alex Haley's classic novel, \"Roots: The Saga of an American Family.\" Producers will consult scholars in African and African-American history for added authenticity. \"We are proud to bring this saga to fans of the original, as well as to a new generation that will experience this powerful and poignant tale for the first time,\" said Dirk Hoogstra, History's executive vice president and general manager. \"Audiences will once again feel the impact of Kunta Kinte's indomitable spirit.\" Executive producer Mark Wolper, son of the original's producer David L. Wolper, added, \"Kunta Kinte began telling his story over 200 years ago and that story went through his family lineage, to Alex Haley, to my father, and now the mantle rests with me. Like Kunta Kinte fought to tell his story over and over again, so must we.\" The remade \"Roots\" will encounter a new generation of viewers who have witnessed Barack Obama make history as the nation's first African-American president and \"12 Years a Slave\" win the Oscar for Best Picture, but also widespread racial unrest over police treatment of black suspects in many U.S. cities. \"My career began with 'Roots' and I am proud to be a part of this new adaptation,\" said Burton. \"There is a huge audience of contemporary young Americans who do not know the story of 'Roots' or its importance.\"\n"
          ]
        }
      ]
    },
    {
      "cell_type": "code",
      "metadata": {
        "id": "3SvA2ljaNzed"
      },
      "source": [
        ""
      ],
      "execution_count": null,
      "outputs": []
    }
  ]
}